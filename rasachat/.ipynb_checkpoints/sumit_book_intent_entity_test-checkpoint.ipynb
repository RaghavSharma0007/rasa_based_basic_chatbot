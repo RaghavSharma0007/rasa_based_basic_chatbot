{
 "cells": [
  {
   "cell_type": "code",
   "execution_count": 4,
   "metadata": {},
   "outputs": [
    {
     "name": "stdout",
     "output_type": "stream",
     "text": [
      "/home/raghavsharma/Documents/projects/UPN_chatbot/rasachat\n"
     ]
    }
   ],
   "source": [
    "cd rasachat"
   ]
  },
  {
   "cell_type": "code",
   "execution_count": 5,
   "metadata": {},
   "outputs": [
    {
     "name": "stderr",
     "output_type": "stream",
     "text": [
      "/home/raghavsharma/anaconda3/envs/food_bot/lib/python3.7/site-packages/rasa_nlu/training_data/training_data.py:176: UserWarning: Intent 'ask_contact_name' has only 1 training examples! Minimum is 2, training may fail.\n",
      "  self.MIN_EXAMPLES_PER_INTENT))\n",
      "/home/raghavsharma/anaconda3/envs/food_bot/lib/python3.7/site-packages/rasa_nlu/training_data/training_data.py:184: UserWarning: Entity 'contact_name' has only 1 training examples! minimum is 2, training may fail.\n",
      "  self.MIN_EXAMPLES_PER_ENTITY))\n"
     ]
    },
    {
     "name": "stdout",
     "output_type": "stream",
     "text": [
      "Fitting 2 folds for each of 6 candidates, totalling 12 fits\n"
     ]
    },
    {
     "name": "stderr",
     "output_type": "stream",
     "text": [
      "/home/raghavsharma/anaconda3/envs/food_bot/lib/python3.7/site-packages/sklearn/model_selection/_split.py:657: Warning: The least populated class in y has only 1 members, which is too few. The minimum number of members in any class cannot be less than n_splits=2.\n",
      "  % (min_groups, self.n_splits)), Warning)\n",
      "[Parallel(n_jobs=1)]: Using backend SequentialBackend with 1 concurrent workers.\n",
      "/home/raghavsharma/anaconda3/envs/food_bot/lib/python3.7/site-packages/sklearn/metrics/classification.py:1437: UndefinedMetricWarning: F-score is ill-defined and being set to 0.0 in labels with no predicted samples.\n",
      "  'precision', 'predicted', average, warn_for)\n",
      "/home/raghavsharma/anaconda3/envs/food_bot/lib/python3.7/site-packages/sklearn/metrics/classification.py:1437: UndefinedMetricWarning: F-score is ill-defined and being set to 0.0 in labels with no predicted samples.\n",
      "  'precision', 'predicted', average, warn_for)\n",
      "/home/raghavsharma/anaconda3/envs/food_bot/lib/python3.7/site-packages/sklearn/metrics/classification.py:1437: UndefinedMetricWarning: F-score is ill-defined and being set to 0.0 in labels with no predicted samples.\n",
      "  'precision', 'predicted', average, warn_for)\n",
      "/home/raghavsharma/anaconda3/envs/food_bot/lib/python3.7/site-packages/sklearn/metrics/classification.py:1437: UndefinedMetricWarning: F-score is ill-defined and being set to 0.0 in labels with no predicted samples.\n",
      "  'precision', 'predicted', average, warn_for)\n",
      "/home/raghavsharma/anaconda3/envs/food_bot/lib/python3.7/site-packages/sklearn/metrics/classification.py:1437: UndefinedMetricWarning: F-score is ill-defined and being set to 0.0 in labels with no predicted samples.\n",
      "  'precision', 'predicted', average, warn_for)\n",
      "/home/raghavsharma/anaconda3/envs/food_bot/lib/python3.7/site-packages/sklearn/metrics/classification.py:1437: UndefinedMetricWarning: F-score is ill-defined and being set to 0.0 in labels with no predicted samples.\n",
      "  'precision', 'predicted', average, warn_for)\n",
      "/home/raghavsharma/anaconda3/envs/food_bot/lib/python3.7/site-packages/sklearn/metrics/classification.py:1437: UndefinedMetricWarning: F-score is ill-defined and being set to 0.0 in labels with no predicted samples.\n",
      "  'precision', 'predicted', average, warn_for)\n",
      "/home/raghavsharma/anaconda3/envs/food_bot/lib/python3.7/site-packages/sklearn/metrics/classification.py:1437: UndefinedMetricWarning: F-score is ill-defined and being set to 0.0 in labels with no predicted samples.\n",
      "  'precision', 'predicted', average, warn_for)\n",
      "/home/raghavsharma/anaconda3/envs/food_bot/lib/python3.7/site-packages/sklearn/metrics/classification.py:1437: UndefinedMetricWarning: F-score is ill-defined and being set to 0.0 in labels with no predicted samples.\n",
      "  'precision', 'predicted', average, warn_for)\n",
      "/home/raghavsharma/anaconda3/envs/food_bot/lib/python3.7/site-packages/sklearn/metrics/classification.py:1437: UndefinedMetricWarning: F-score is ill-defined and being set to 0.0 in labels with no predicted samples.\n",
      "  'precision', 'predicted', average, warn_for)\n",
      "/home/raghavsharma/anaconda3/envs/food_bot/lib/python3.7/site-packages/sklearn/metrics/classification.py:1437: UndefinedMetricWarning: F-score is ill-defined and being set to 0.0 in labels with no predicted samples.\n",
      "  'precision', 'predicted', average, warn_for)\n",
      "/home/raghavsharma/anaconda3/envs/food_bot/lib/python3.7/site-packages/sklearn/metrics/classification.py:1437: UndefinedMetricWarning: F-score is ill-defined and being set to 0.0 in labels with no predicted samples.\n",
      "  'precision', 'predicted', average, warn_for)\n",
      "[Parallel(n_jobs=1)]: Done  12 out of  12 | elapsed:    0.3s finished\n"
     ]
    }
   ],
   "source": [
    "from rasa_nlu.training_data import load_data\n",
    "\n",
    "from rasa_nlu.model import Trainer\n",
    "from rasa_nlu import config\n",
    "from rasa_nlu.model import Interpreter\n",
    "def train_horoscopebot(nlu_data_md, config_file, model_dir):\n",
    "    training_data = load_data(nlu_data_md)\n",
    "    trainer = Trainer(config.load(config_file))\n",
    "    trainer.train(training_data)\n",
    "    model_directory = trainer.persist(model_dir, fixed_model_name =\n",
    "'robo')\n",
    "def predict_intent(text):\n",
    "    interpreter = Interpreter.load('./models/current/nlu/default/robo')\n",
    "    response=interpreter.parse(text) \n",
    "    di=response['intent']\n",
    "    de=response['entities']\n",
    "    k=len(de)\n",
    "    #print(response['entities'][0]['value'])\n",
    "    #print(response['entities'][1]['value'])\n",
    "    #print(response['entities'][2]['value'])\n",
    "    #print(response['entities'][3]['value'])\n",
    "    if de==[]:\n",
    "        print(di)\n",
    "        \n",
    "    else:\n",
    "        print(di)\n",
    "        for i in range(k):\n",
    "            print(response['entities'][i]['value'])\n",
    "            print(response['entities'][i]['confidence'])\n",
    "            \n",
    "train_horoscopebot('Data/nlu.md', 'Config/config.yml', './models/current/nlu')    "
   ]
  },
  {
   "cell_type": "code",
   "execution_count": 2,
   "metadata": {},
   "outputs": [
    {
     "name": "stderr",
     "output_type": "stream",
     "text": [
      "/home/raghavsharma/anaconda3/envs/food_bot/lib/python3.7/site-packages/sklearn/base.py:306: UserWarning: Trying to unpickle estimator LabelEncoder from version 0.20.3 when using version 0.21.3. This might lead to breaking code or invalid results. Use at your own risk.\n",
      "  UserWarning)\n",
      "/home/raghavsharma/anaconda3/envs/food_bot/lib/python3.7/site-packages/sklearn/base.py:306: UserWarning: Trying to unpickle estimator SVC from version 0.20.3 when using version 0.21.3. This might lead to breaking code or invalid results. Use at your own risk.\n",
      "  UserWarning)\n"
     ]
    },
    {
     "ename": "AttributeError",
     "evalue": "Can't get attribute 'DeprecationDict' on <module 'sklearn.utils.deprecation' from '/home/raghavsharma/anaconda3/envs/food_bot/lib/python3.7/site-packages/sklearn/utils/deprecation.py'>",
     "output_type": "error",
     "traceback": [
      "\u001b[0;31m---------------------------------------------------------------------------\u001b[0m",
      "\u001b[0;31mAttributeError\u001b[0m                            Traceback (most recent call last)",
      "\u001b[0;32m<ipython-input-2-d9353f88de49>\u001b[0m in \u001b[0;36m<module>\u001b[0;34m\u001b[0m\n\u001b[0;32m----> 1\u001b[0;31m \u001b[0mpredict_intent\u001b[0m\u001b[0;34m(\u001b[0m\u001b[0;34m\"hi\"\u001b[0m\u001b[0;34m)\u001b[0m\u001b[0;34m\u001b[0m\u001b[0;34m\u001b[0m\u001b[0m\n\u001b[0m",
      "\u001b[0;32m<ipython-input-1-3e487b4895a4>\u001b[0m in \u001b[0;36mpredict_intent\u001b[0;34m(text)\u001b[0m\n\u001b[1;32m     11\u001b[0m 'nlu')\n\u001b[1;32m     12\u001b[0m \u001b[0;32mdef\u001b[0m \u001b[0mpredict_intent\u001b[0m\u001b[0;34m(\u001b[0m\u001b[0mtext\u001b[0m\u001b[0;34m)\u001b[0m\u001b[0;34m:\u001b[0m\u001b[0;34m\u001b[0m\u001b[0;34m\u001b[0m\u001b[0m\n\u001b[0;32m---> 13\u001b[0;31m     \u001b[0minterpreter\u001b[0m \u001b[0;34m=\u001b[0m \u001b[0mInterpreter\u001b[0m\u001b[0;34m.\u001b[0m\u001b[0mload\u001b[0m\u001b[0;34m(\u001b[0m\u001b[0;34m'./models/current/nlu'\u001b[0m\u001b[0;34m)\u001b[0m\u001b[0;34m\u001b[0m\u001b[0;34m\u001b[0m\u001b[0m\n\u001b[0m\u001b[1;32m     14\u001b[0m     \u001b[0mresponse\u001b[0m\u001b[0;34m=\u001b[0m\u001b[0minterpreter\u001b[0m\u001b[0;34m.\u001b[0m\u001b[0mparse\u001b[0m\u001b[0;34m(\u001b[0m\u001b[0mtext\u001b[0m\u001b[0;34m)\u001b[0m\u001b[0;34m\u001b[0m\u001b[0;34m\u001b[0m\u001b[0m\n\u001b[1;32m     15\u001b[0m     \u001b[0mdi\u001b[0m\u001b[0;34m=\u001b[0m\u001b[0mresponse\u001b[0m\u001b[0;34m[\u001b[0m\u001b[0;34m'intent'\u001b[0m\u001b[0;34m]\u001b[0m\u001b[0;34m\u001b[0m\u001b[0;34m\u001b[0m\u001b[0m\n",
      "\u001b[0;32m~/anaconda3/envs/food_bot/lib/python3.7/site-packages/rasa_nlu/model.py\u001b[0m in \u001b[0;36mload\u001b[0;34m(model_dir, component_builder, skip_validation)\u001b[0m\n\u001b[1;32m    302\u001b[0m         return Interpreter.create(model_metadata,\n\u001b[1;32m    303\u001b[0m                                   \u001b[0mcomponent_builder\u001b[0m\u001b[0;34m,\u001b[0m\u001b[0;34m\u001b[0m\u001b[0;34m\u001b[0m\u001b[0m\n\u001b[0;32m--> 304\u001b[0;31m                                   skip_validation)\n\u001b[0m\u001b[1;32m    305\u001b[0m \u001b[0;34m\u001b[0m\u001b[0m\n\u001b[1;32m    306\u001b[0m     \u001b[0;34m@\u001b[0m\u001b[0mstaticmethod\u001b[0m\u001b[0;34m\u001b[0m\u001b[0;34m\u001b[0m\u001b[0m\n",
      "\u001b[0;32m~/anaconda3/envs/food_bot/lib/python3.7/site-packages/rasa_nlu/model.py\u001b[0m in \u001b[0;36mcreate\u001b[0;34m(model_metadata, component_builder, skip_validation)\u001b[0m\n\u001b[1;32m    329\u001b[0m             component = component_builder.load_component(\n\u001b[1;32m    330\u001b[0m                 \u001b[0mcomponent_meta\u001b[0m\u001b[0;34m,\u001b[0m \u001b[0mmodel_metadata\u001b[0m\u001b[0;34m.\u001b[0m\u001b[0mmodel_dir\u001b[0m\u001b[0;34m,\u001b[0m\u001b[0;34m\u001b[0m\u001b[0;34m\u001b[0m\u001b[0m\n\u001b[0;32m--> 331\u001b[0;31m                 model_metadata, **context)\n\u001b[0m\u001b[1;32m    332\u001b[0m             \u001b[0;32mtry\u001b[0m\u001b[0;34m:\u001b[0m\u001b[0;34m\u001b[0m\u001b[0;34m\u001b[0m\u001b[0m\n\u001b[1;32m    333\u001b[0m                 \u001b[0mupdates\u001b[0m \u001b[0;34m=\u001b[0m \u001b[0mcomponent\u001b[0m\u001b[0;34m.\u001b[0m\u001b[0mprovide_context\u001b[0m\u001b[0;34m(\u001b[0m\u001b[0;34m)\u001b[0m\u001b[0;34m\u001b[0m\u001b[0;34m\u001b[0m\u001b[0m\n",
      "\u001b[0;32m~/anaconda3/envs/food_bot/lib/python3.7/site-packages/rasa_nlu/components.py\u001b[0m in \u001b[0;36mload_component\u001b[0;34m(self, component_meta, model_dir, model_metadata, **context)\u001b[0m\n\u001b[1;32m    423\u001b[0m             component = registry.load_component_by_meta(\n\u001b[1;32m    424\u001b[0m                 \u001b[0mcomponent_meta\u001b[0m\u001b[0;34m,\u001b[0m \u001b[0mmodel_dir\u001b[0m\u001b[0;34m,\u001b[0m \u001b[0mmodel_metadata\u001b[0m\u001b[0;34m,\u001b[0m\u001b[0;34m\u001b[0m\u001b[0;34m\u001b[0m\u001b[0m\n\u001b[0;32m--> 425\u001b[0;31m                 cached_component, **context)\n\u001b[0m\u001b[1;32m    426\u001b[0m             \u001b[0;32mif\u001b[0m \u001b[0;32mnot\u001b[0m \u001b[0mcached_component\u001b[0m\u001b[0;34m:\u001b[0m\u001b[0;34m\u001b[0m\u001b[0;34m\u001b[0m\u001b[0m\n\u001b[1;32m    427\u001b[0m                 \u001b[0;31m# If the component wasn't in the cache,\u001b[0m\u001b[0;34m\u001b[0m\u001b[0;34m\u001b[0m\u001b[0;34m\u001b[0m\u001b[0m\n",
      "\u001b[0;32m~/anaconda3/envs/food_bot/lib/python3.7/site-packages/rasa_nlu/registry.py\u001b[0m in \u001b[0;36mload_component_by_meta\u001b[0;34m(component_meta, model_dir, metadata, cached_component, **kwargs)\u001b[0m\n\u001b[1;32m    170\u001b[0m     \u001b[0mcomponent_class\u001b[0m \u001b[0;34m=\u001b[0m \u001b[0mget_component_class\u001b[0m\u001b[0;34m(\u001b[0m\u001b[0mcomponent_name\u001b[0m\u001b[0;34m)\u001b[0m\u001b[0;34m\u001b[0m\u001b[0;34m\u001b[0m\u001b[0m\n\u001b[1;32m    171\u001b[0m     return component_class.load(component_meta, model_dir, metadata,\n\u001b[0;32m--> 172\u001b[0;31m                                 cached_component, **kwargs)\n\u001b[0m\u001b[1;32m    173\u001b[0m \u001b[0;34m\u001b[0m\u001b[0m\n\u001b[1;32m    174\u001b[0m \u001b[0;34m\u001b[0m\u001b[0m\n",
      "\u001b[0;32m~/anaconda3/envs/food_bot/lib/python3.7/site-packages/rasa_nlu/classifiers/sklearn_intent_classifier.py\u001b[0m in \u001b[0;36mload\u001b[0;34m(cls, meta, model_dir, model_metadata, cached_component, **kwargs)\u001b[0m\n\u001b[1;32m    215\u001b[0m \u001b[0;34m\u001b[0m\u001b[0m\n\u001b[1;32m    216\u001b[0m         \u001b[0;32mif\u001b[0m \u001b[0mos\u001b[0m\u001b[0;34m.\u001b[0m\u001b[0mpath\u001b[0m\u001b[0;34m.\u001b[0m\u001b[0mexists\u001b[0m\u001b[0;34m(\u001b[0m\u001b[0mclassifier_file\u001b[0m\u001b[0;34m)\u001b[0m\u001b[0;34m:\u001b[0m\u001b[0;34m\u001b[0m\u001b[0;34m\u001b[0m\u001b[0m\n\u001b[0;32m--> 217\u001b[0;31m             \u001b[0;32mreturn\u001b[0m \u001b[0mutils\u001b[0m\u001b[0;34m.\u001b[0m\u001b[0mpycloud_unpickle\u001b[0m\u001b[0;34m(\u001b[0m\u001b[0mclassifier_file\u001b[0m\u001b[0;34m)\u001b[0m\u001b[0;34m\u001b[0m\u001b[0;34m\u001b[0m\u001b[0m\n\u001b[0m\u001b[1;32m    218\u001b[0m         \u001b[0;32melse\u001b[0m\u001b[0;34m:\u001b[0m\u001b[0;34m\u001b[0m\u001b[0;34m\u001b[0m\u001b[0m\n\u001b[1;32m    219\u001b[0m             \u001b[0;32mreturn\u001b[0m \u001b[0mcls\u001b[0m\u001b[0;34m(\u001b[0m\u001b[0mmeta\u001b[0m\u001b[0;34m)\u001b[0m\u001b[0;34m\u001b[0m\u001b[0;34m\u001b[0m\u001b[0m\n",
      "\u001b[0;32m~/anaconda3/envs/food_bot/lib/python3.7/site-packages/rasa_nlu/utils/__init__.py\u001b[0m in \u001b[0;36mpycloud_unpickle\u001b[0;34m(file_name)\u001b[0m\n\u001b[1;32m    344\u001b[0m \u001b[0;34m\u001b[0m\u001b[0m\n\u001b[1;32m    345\u001b[0m     \u001b[0;32mwith\u001b[0m \u001b[0mio\u001b[0m\u001b[0;34m.\u001b[0m\u001b[0mopen\u001b[0m\u001b[0;34m(\u001b[0m\u001b[0mfile_name\u001b[0m\u001b[0;34m,\u001b[0m \u001b[0;34m'rb'\u001b[0m\u001b[0;34m)\u001b[0m \u001b[0;32mas\u001b[0m \u001b[0mf\u001b[0m\u001b[0;34m:\u001b[0m  \u001b[0;31m# pragma: no test\u001b[0m\u001b[0;34m\u001b[0m\u001b[0;34m\u001b[0m\u001b[0m\n\u001b[0;32m--> 346\u001b[0;31m         \u001b[0;32mreturn\u001b[0m \u001b[0mcloudpickle\u001b[0m\u001b[0;34m.\u001b[0m\u001b[0mload\u001b[0m\u001b[0;34m(\u001b[0m\u001b[0mf\u001b[0m\u001b[0;34m,\u001b[0m \u001b[0mencoding\u001b[0m\u001b[0;34m=\u001b[0m\u001b[0;34m\"latin-1\"\u001b[0m\u001b[0;34m)\u001b[0m\u001b[0;34m\u001b[0m\u001b[0;34m\u001b[0m\u001b[0m\n\u001b[0m\u001b[1;32m    347\u001b[0m \u001b[0;34m\u001b[0m\u001b[0m\n\u001b[1;32m    348\u001b[0m \u001b[0;34m\u001b[0m\u001b[0m\n",
      "\u001b[0;31mAttributeError\u001b[0m: Can't get attribute 'DeprecationDict' on <module 'sklearn.utils.deprecation' from '/home/raghavsharma/anaconda3/envs/food_bot/lib/python3.7/site-packages/sklearn/utils/deprecation.py'>"
     ]
    }
   ],
   "source": [
    "predict_intent(\"hi\")\n"
   ]
  },
  {
   "cell_type": "code",
   "execution_count": 102,
   "metadata": {},
   "outputs": [],
   "source": [
    "import difflib\n",
    "a='paratha'\n",
    "c='parate'"
   ]
  },
  {
   "cell_type": "code",
   "execution_count": 103,
   "metadata": {},
   "outputs": [
    {
     "name": "stdout",
     "output_type": "stream",
     "text": [
      "d 76.92307692307693\n"
     ]
    }
   ],
   "source": [
    "seq = difflib.SequenceMatcher(None,a,c)\n",
    "d = seq.ratio()*100\n",
    "print('d',d)\n",
    "                "
   ]
  },
  {
   "cell_type": "code",
   "execution_count": null,
   "metadata": {},
   "outputs": [],
   "source": [
    "import pandas as pd\n",
    "import numpy as np\n",
    "import json, sys\n",
    "import pandas as pd\n",
    "from rasa_nlu.training_data import load_data\n",
    "from rasa_nlu.config import RasaNLUModelConfig\n",
    "from rasa_nlu.model import Trainer\n",
    "from rasa_nlu import config\n",
    "import os\n",
    "import statistics \n",
    "path = sys.argv[1]\n",
    "file_name = sys.argv[2]\n",
    "accuracy_intent=[]\n",
    "accuracy_entity=[]\n",
    "training_data = load_data(\"/home/raghavsharma/Documents/projects/Food_bot_project/Food_bot/rasachat/output/train/output.json\")\n",
    "trainer = Trainer(config.load(\"Config/config.yml\"))\n",
    "interpreter = trainer.train(training_data)\n",
    "model_directory = trainer.persist(\"./models/nlu\", fixed_model_name=\"current\")\n",
    "wrong_acc=0\n",
    "entity_rows= []\n",
    "intent_rows= []\n",
    "\n",
    "with open(path+file_name) as json_file:  \n",
    "    data = json.load (json_file)\n",
    "    data_extracted = data[\"rasa_nlu_data\"]['common_examples']\n",
    "    \n",
    "    \n",
    "for i in range(0,len(data_extracted)):\n",
    "    actual_intent = data_extracted[i]['intent']\n",
    "    actual_entity = data_extracted[i]['entities']\n",
    "    phrase= data_extracted[i]['text'].lower()\n",
    "    resp= interpreter.parse(phrase)\n",
    "    detected_entities= resp['entities']\n",
    "    detected_entity_confidence= ''\n",
    "    x = (len(resp['entities']))\n",
    "    detected_intent = resp['intent']['name']\n",
    "    detected_intent_confidence= float(resp['intent']['confidence'])\n",
    "    \n",
    "    if (actual_intent.lower() == detected_intent.lower() ):\n",
    "        if (detected_entities == []):\n",
    "            intent_status=\"Correct\"\n",
    "            row_intent = [phrase,actual_intent,detected_intent,detected_intent_confidence,intent_status]\n",
    "            intent_rows.append(row_intent)\n",
    "            accuracy_intent.append(detected_intent_confidence)\n",
    "        else:\n",
    "            for j in range(x):\n",
    "                actual_entity = data_extracted[i]['entities'][j]['value']\n",
    "                detected_entity = resp['entities'][j]['value']\n",
    "                detected_entity_confidence = float(resp['entities'][j]['confidence'])\n",
    "                j =+ 1\n",
    "                actual_entity=actual_entity.replace(\" \",\"\")\n",
    "                detected_entity=detected_entity.replace(\" \",\"\")\n",
    "                if (actual_entity.lower()==detected_entity.lower()):\n",
    "                    \n",
    "                    entity_status=\"Correct\"\n",
    "                    accuracy_entity.append(detected_entity_confidence)\n",
    "                    entity_row = [phrase,actual_entity,detected_entity,detected_entity_confidence,entity_status]\n",
    "                    entity_rows.append(entity_row)\n",
    "\n",
    "                else:\n",
    "\n",
    "                    entity_status=\"Wrong\"\n",
    "                    accuracy_entity.append(wrong_acc)\n",
    "                    entity_row = [phrase,actual_entity,detected_entity,detected_entity_confidence,entity_status]\n",
    "                    entity_rows.append(entity_row)\n",
    "                \n",
    "       \n",
    "    else:\n",
    "        \n",
    "        intent_status=\"Wrong\"\n",
    "        accuracy_intent.append(wrong_acc)\n",
    "        row_intent = [phrase,actual_intent,detected_intent,detected_intent_confidence,intent_status]\n",
    "        intent_rows.append(row_intent)\n",
    "        i += 1\n",
    "\n",
    "accuracy_intent=statistics.mean(accuracy_intent)\n",
    "accuracy_entity=statistics.mean(accuracy_entity)\n",
    "row_intent = [\"\",\"\",\"Accuracy:\",accuracy_intent,\"\"]\n",
    "intent_rows.append(row_intent)\n",
    "entity_row = [\"\",\"\",\"Accuracy\",accuracy_entity,\"\"]\n",
    "entity_rows.append(entity_row)\n",
    "intent_columns = [\"Input\",\"Actual Intent\",\"Detected Intent\",\"Detected Intent Confidence\",\"Intent Status\"]        \n",
    "entity_columns = [\"Input\",\"Actual Entity\",\"Detected Entity\",\"Detected Entity Confidence\",\"Entity Status\"]        \n",
    "intent_matrix = pd.DataFrame (intent_rows, columns = intent_columns)\n",
    "entity_matrix= pd.DataFrame (entity_rows, columns= entity_columns)\n",
    "output_file_name=\"Results\"\n",
    "if output_file_name in os.listdir(path):\n",
    "    intent_matrix.to_csv(path+output_file_name+'/Intents.csv', index = False)\n",
    "    entity_matrix.to_csv(path+output_file_name+'/Entities.csv',index = False)\n",
    "else:\n",
    "    os.mkdir(path+output_file_name)\n",
    "    intent_matrix.to_csv(path+output_file_name+'/Intents.csv',index = False)\n",
    "    entity_matrix.to_csv(path+output_file_name+'/Entities.csv', index = False)"
   ]
  }
 ],
 "metadata": {
  "kernelspec": {
   "display_name": "bott",
   "language": "python",
   "name": "food_bot"
  },
  "language_info": {
   "codemirror_mode": {
    "name": "ipython",
    "version": 3
   },
   "file_extension": ".py",
   "mimetype": "text/x-python",
   "name": "python",
   "nbconvert_exporter": "python",
   "pygments_lexer": "ipython3",
   "version": "3.7.3"
  }
 },
 "nbformat": 4,
 "nbformat_minor": 2
}
