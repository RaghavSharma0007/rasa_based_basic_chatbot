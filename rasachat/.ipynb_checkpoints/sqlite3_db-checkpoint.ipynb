{
 "cells": [
  {
   "cell_type": "code",
   "execution_count": null,
   "metadata": {},
   "outputs": [],
   "source": [
    "import sqlite3"
   ]
  },
  {
   "cell_type": "code",
   "execution_count": 16,
   "metadata": {},
   "outputs": [
    {
     "data": {
      "text/plain": [
       "'/home/raghavsharma/Documents/projects/UPN_chatbot/UPN_chatbot_main/rasachat'"
      ]
     },
     "execution_count": 16,
     "metadata": {},
     "output_type": "execute_result"
    }
   ],
   "source": [
    "pwd"
   ]
  },
  {
   "cell_type": "code",
   "execution_count": 21,
   "metadata": {},
   "outputs": [],
   "source": [
    "con = sqlite3.connect('upnchat.db')\n",
    "cursorObj = con.cursor()"
   ]
  },
  {
   "cell_type": "code",
   "execution_count": 24,
   "metadata": {},
   "outputs": [],
   "source": [
    "cursorObj.execute(\"CREATE TABLE UPN_account_information(id integer PRIMARY KEY AUTOINCREMENT, Opportunity_name text, Opportunity_type text,Account_holder_name text, State_name text, Primary_contact_name text, Title_name text,  Pricing_type text, Estimate_type text, Circuit_type text, Product_type text, Bandwidth text,  Location_A text, Location_Z text)\")\n",
    "con.commit()"
   ]
  },
  {
   "cell_type": "code",
   "execution_count": null,
   "metadata": {},
   "outputs": [],
   "source": []
  },
  {
   "cell_type": "code",
   "execution_count": 25,
   "metadata": {},
   "outputs": [],
   "source": [
    "# cursorObj.execute('DROP table if exists UPN_account_information')"
   ]
  },
  {
   "cell_type": "code",
   "execution_count": 27,
   "metadata": {},
   "outputs": [
    {
     "name": "stdout",
     "output_type": "stream",
     "text": [
      "hello\n"
     ]
    }
   ],
   "source": [
    "\n",
    "import sqlite3\n",
    "con = sqlite3.connect('upnchat.db')\n",
    "cursorObj = con.cursor()\n",
    "\n",
    "\n",
    "# Id = 20300\n",
    "opportunity_name=\"Netsmartz test 1\"\n",
    "opportunity_type=\"New Business\"\n",
    "account_holder_name=\"Millie Bobby\"\n",
    "state_name=\"CA\"\n",
    "primary_contact_name=\"Millie Bobby Brown\"\n",
    "title_name=\"option 1\"\n",
    "pricing_type=\"On Net\"\n",
    "estimate_type=\"$0 - $50K (3 Days-RVP Approval)\"\n",
    "circuit_type=\"New circuit\"\n",
    "product_type=\"Bidirectional NNI\"\n",
    "bandwidth=\"800 Gbps\"\n",
    "location_a_a=\"123 E Marcy St Ste 201, Santa Fe, NM, 87501, Santa Fe Office (Modrall Sperling)\"\n",
    "location_z_z=\"115 N Second Ave E, Newton, IA, 50208, Jasper County Annex\"\n",
    "\n",
    "entities = (opportunity_name, opportunity_type, account_holder_name, state_name, primary_contact_name, title_name, pricing_type, estimate_type,\n",
    "                    circuit_type, product_type, bandwidth, location_a_a,location_z_z )\n",
    "cursorObj.execute(\"INSERT INTO UPN_account_information (Opportunity_name, Opportunity_type,Account_holder_name, State_name,Primary_contact_name, Title_name,  Pricing_type, Estimate_type, Circuit_type, Product_type, Bandwidth,  Location_A, Location_Z) VALUES(?,?,?,?,?,?,?,?,?,?,?,?,?)\", entities)\n",
    "print(\"hello\")\n",
    "con.commit()"
   ]
  },
  {
   "cell_type": "code",
   "execution_count": 28,
   "metadata": {},
   "outputs": [],
   "source": [
    "con.close()"
   ]
  },
  {
   "cell_type": "code",
   "execution_count": 11,
   "metadata": {},
   "outputs": [
    {
     "ename": "SyntaxError",
     "evalue": "invalid syntax (<ipython-input-11-7428f526c1c2>, line 1)",
     "output_type": "error",
     "traceback": [
      "\u001b[0;36m  File \u001b[0;32m\"<ipython-input-11-7428f526c1c2>\"\u001b[0;36m, line \u001b[0;32m1\u001b[0m\n\u001b[0;31m    UPDATE sqlite_sequence SET seq = <n> WHERE name = 'UPN_account_information';\u001b[0m\n\u001b[0m                         ^\u001b[0m\n\u001b[0;31mSyntaxError\u001b[0m\u001b[0;31m:\u001b[0m invalid syntax\n"
     ]
    }
   ],
   "source": [
    "UPDATE sqlite_sequence SET seq = <n> WHERE name = 'UPN_account_information';"
   ]
  },
  {
   "cell_type": "code",
   "execution_count": null,
   "metadata": {},
   "outputs": [],
   "source": [
    "import sqlite3\n",
    "con = sqlite3.connect('upnchat.db')\n",
    "cursorObj = con.cursor()\n",
    "\n",
    "Id=2\n",
    "opportunity_name=\"Netsmartz test\"\n",
    "opportunity_type=\"New Business\"\n",
    "account_holder_name=\"Millie Bobby\"\n",
    "state_name=\"CA\"\n",
    "primary_contact_name=\"Millie Bobby Brown\"\n",
    "title_name=\"option 1\"\n",
    "pricing_type=\"On Net\"\n",
    "estimate_type=\"$0 - $50K (3 Days-RVP Approval)\"\n",
    "circuit_type=\"New circuit\"\n",
    "product_type=\"Bidirectional NNI\"\n",
    "bandwidth=\"800 Gbps\"\n",
    "location_a_a=\"123 E Marcy St Ste 201, Santa Fe, NM, 87501, Santa Fe Office (Modrall Sperling)\"\n",
    "location_z_z=\"115 N Second Ave E, Newton, IA, 50208, Jasper County Annex\"\n",
    "\n",
    "entities = (Id, opportunity_name, opportunity_type, account_holder_name, state_name, primary_contact_name, title_name, pricing_type, estimate_type,\n",
    "                    circuit_type, product_type, bandwidth, location_a_a,location_z_z )\n",
    "cursorObj.execute(\"INSERT INTO UPN_account_information (id, Opportunity_name, Opportunity_type,Account_holder_name, State_name,Primary_contact_name, Title_name,  Pricing_type, Estimate_type, Circuit_type, Product_type, Bandwidth,  Location_A, Location_Z) VALUES(?,?,?,?,?,?,?,?,?,?,?,?,?,?)\", entities)\n",
    "con.commit()"
   ]
  },
  {
   "cell_type": "code",
   "execution_count": 5,
   "metadata": {},
   "outputs": [],
   "source": [
    "tracker = \"20287\"\n",
    "\n",
    "\n",
    "id = 2\n",
    "tracker[4]\n",
    "tracker[3]\n",
    "input_num=id"
   ]
  },
  {
   "cell_type": "code",
   "execution_count": 6,
   "metadata": {},
   "outputs": [
    {
     "name": "stdout",
     "output_type": "stream",
     "text": [
      "The number of digits in the given number are: 1\n"
     ]
    }
   ],
   "source": [
    "count = 0\n",
    "while input_num > 0:\n",
    "    count += 1\n",
    "    input_num //= 10\n",
    "print(\"The number of digits in the given number are:\", count)\n",
    "if count==1:\n",
    "    "
   ]
  },
  {
   "cell_type": "code",
   "execution_count": null,
   "metadata": {},
   "outputs": [],
   "source": []
  }
 ],
 "metadata": {
  "kernelspec": {
   "display_name": "bott",
   "language": "python",
   "name": "food_bot"
  },
  "language_info": {
   "codemirror_mode": {
    "name": "ipython",
    "version": 3
   },
   "file_extension": ".py",
   "mimetype": "text/x-python",
   "name": "python",
   "nbconvert_exporter": "python",
   "pygments_lexer": "ipython3",
   "version": "3.7.3"
  }
 },
 "nbformat": 4,
 "nbformat_minor": 2
}
